{
 "cells": [
  {
   "cell_type": "markdown",
   "id": "minor-opportunity",
   "metadata": {},
   "source": [
    "# Control statements"
   ]
  },
  {
   "cell_type": "code",
   "execution_count": 7,
   "id": "willing-multimedia",
   "metadata": {},
   "outputs": [
    {
     "name": "stdout",
     "output_type": "stream",
     "text": [
      "this will print\n"
     ]
    }
   ],
   "source": [
    "if 5 < 9:\n",
    "    print('this will print')"
   ]
  },
  {
   "cell_type": "code",
   "execution_count": 8,
   "id": "owned-ambassador",
   "metadata": {},
   "outputs": [
    {
     "name": "stdout",
     "output_type": "stream",
     "text": [
      "but this will print\n"
     ]
    }
   ],
   "source": [
    "if 7 > 11:\n",
    "    print('this will not print')\n",
    "else:\n",
    "    print('but this will print')\n",
    "    \n"
   ]
  },
  {
   "cell_type": "code",
   "execution_count": 9,
   "id": "opponent-correlation",
   "metadata": {},
   "outputs": [
    {
     "data": {
      "text/plain": [
       "'first'"
      ]
     },
     "execution_count": 9,
     "metadata": {},
     "output_type": "execute_result"
    }
   ],
   "source": [
    "value = 'first' if 1 > 0 else 'second'\n",
    "value"
   ]
  },
  {
   "cell_type": "code",
   "execution_count": 11,
   "id": "specified-split",
   "metadata": {},
   "outputs": [
    {
     "data": {
      "text/plain": [
       "135"
      ]
     },
     "execution_count": 11,
     "metadata": {},
     "output_type": "execute_result"
    }
   ],
   "source": [
    "number = 5\n",
    "while number < 50:\n",
    "    number = number * 3\n",
    "    \n",
    "number"
   ]
  },
  {
   "cell_type": "code",
   "execution_count": 12,
   "id": "agricultural-childhood",
   "metadata": {},
   "outputs": [
    {
     "name": "stdout",
     "output_type": "stream",
     "text": [
      "P r o g r a m m i n g "
     ]
    }
   ],
   "source": [
    "for char in 'Programming':\n",
    "    print(char, end= ' ')\n"
   ]
  },
  {
   "cell_type": "code",
   "execution_count": 15,
   "id": "golden-gamma",
   "metadata": {},
   "outputs": [
    {
     "name": "stdout",
     "output_type": "stream",
     "text": [
      "30 40 50\n"
     ]
    }
   ],
   "source": [
    "print (30, 40, 50)"
   ]
  },
  {
   "cell_type": "code",
   "execution_count": 16,
   "id": "leading-burke",
   "metadata": {},
   "outputs": [
    {
     "name": "stdout",
     "output_type": "stream",
     "text": [
      "30, 40, 50\n"
     ]
    }
   ],
   "source": [
    "print (30, 40, 50, sep=', ')"
   ]
  },
  {
   "cell_type": "code",
   "execution_count": 17,
   "id": "indonesian-teacher",
   "metadata": {},
   "outputs": [
    {
     "data": {
      "text/plain": [
       "63"
      ]
     },
     "execution_count": 17,
     "metadata": {},
     "output_type": "execute_result"
    }
   ],
   "source": [
    "total = 0\n",
    "for n in [10, 0, -1, 20, 34]:\n",
    "    total = total + n\n",
    "    \n",
    "total"
   ]
  },
  {
   "cell_type": "code",
   "execution_count": 18,
   "id": "funded-catalyst",
   "metadata": {},
   "outputs": [
    {
     "name": "stdout",
     "output_type": "stream",
     "text": [
      "0 1 2 3 4 5 6 7 8 9 "
     ]
    }
   ],
   "source": [
    "for num in range(10):\n",
    "    print(num, end=' ')\n"
   ]
  },
  {
   "cell_type": "code",
   "execution_count": 19,
   "id": "joint-breach",
   "metadata": {},
   "outputs": [
    {
     "name": "stdout",
     "output_type": "stream",
     "text": [
      "value is greater than 10\n"
     ]
    }
   ],
   "source": [
    "value = 15\n",
    "if value < 5:\n",
    "    print('value is less than 5')\n",
    "elif value < 10:\n",
    "    print('value is less than 10')\n",
    "else:\n",
    "    print('value is greater than 10')\n"
   ]
  },
  {
   "cell_type": "code",
   "execution_count": null,
   "id": "recovered-token",
   "metadata": {},
   "outputs": [],
   "source": []
  }
 ],
 "metadata": {
  "kernelspec": {
   "display_name": "Python 3",
   "language": "python",
   "name": "python3"
  },
  "language_info": {
   "codemirror_mode": {
    "name": "ipython",
    "version": 3
   },
   "file_extension": ".py",
   "mimetype": "text/x-python",
   "name": "python",
   "nbconvert_exporter": "python",
   "pygments_lexer": "ipython3",
   "version": "3.8.8"
  }
 },
 "nbformat": 4,
 "nbformat_minor": 5
}
